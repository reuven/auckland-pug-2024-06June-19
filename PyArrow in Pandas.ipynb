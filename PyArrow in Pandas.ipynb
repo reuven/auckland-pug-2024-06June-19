{
 "cells": [
  {
   "cell_type": "markdown",
   "id": "038f816a-0c1d-4dcd-a1c3-11b44c85e3cc",
   "metadata": {},
   "source": [
    "# PyArrow in Pandas\n",
    "\n",
    "1. What is Arrow? What is PyArrow?\n",
    "2. How can I use Arrow/PyArrow today?\n",
    "3. Using PyArrow as a backend instead of NumPy"
   ]
  },
  {
   "cell_type": "markdown",
   "id": "ae598a9c-ea24-49ac-9612-081004cf733c",
   "metadata": {},
   "source": [
    "# What is Arrow?\n",
    "\n",
    "Arrow is an open-source project from Apache. The idea is to have an in-memory set of data structures that are cross-platform and cross-language, for data analysis work. If you are implementing a language that wants to do data analysis, or if you're implementing a system/database/tool for data analysis, then don't re-invent the wheel -- just use Apache Arrow.\n",
    "\n",
    "If you're using Apache Arrow, then you can probably share data with other systems using Apache Arrow.\n",
    "\n",
    "# Well.. what's wrong with NumPy?\n",
    "\n",
    "I've long described Pandas as an automatic transmission, whereas NumPy is the manual transmission.  Pandas has long used NumPy for storage. And that's mostly great:\n",
    "\n",
    "- Storage is in C, so it's small and fast\n",
    "- Much less memory usage than Python objects\n",
    "- Vectorized operations\n",
    "- We know it's rock solid\n",
    "\n",
    "But...\n",
    "\n",
    "- It was never designed for data storage/retrieval\n",
    "- It was never designed for tabular data, like we use in Pandas\n",
    "- It was never really meant for serious string operations\n",
    "\n",
    "At some point, Arrow will replace NumPy as the backend for Pandas. It's currently experimental, but the documentation says that Arrow (PyArrow, the Python bindings for Arrow) will be mandatory in order to install Pandas 3.0 whenever it comes out."
   ]
  },
  {
   "cell_type": "code",
   "execution_count": 1,
   "id": "1781f43d-4189-489c-8b5d-1fc48c765d40",
   "metadata": {},
   "outputs": [
    {
     "data": {
      "text/plain": [
       "28"
      ]
     },
     "execution_count": 1,
     "metadata": {},
     "output_type": "execute_result"
    }
   ],
   "source": [
    "# if we're using int64 in Pandas/NumPy, then an integer takes up 64 bits or 8 bytes\n",
    "# how much space does a Python integer take?\n",
    "\n",
    "x = 1000\n",
    "import sys\n",
    "\n",
    "sys.getsizeof(x)  # how many bytes will this be?"
   ]
  },
  {
   "cell_type": "code",
   "execution_count": 2,
   "id": "d04cd8c1-097c-41ec-87bf-27283ff41f48",
   "metadata": {},
   "outputs": [],
   "source": [
    "x = x ** 100"
   ]
  },
  {
   "cell_type": "code",
   "execution_count": 3,
   "id": "4d703706-ee03-4f15-a011-b13d9f94cd1c",
   "metadata": {},
   "outputs": [
    {
     "data": {
      "text/plain": [
       "160"
      ]
     },
     "execution_count": 3,
     "metadata": {},
     "output_type": "execute_result"
    }
   ],
   "source": [
    "sys.getsizeof(x)"
   ]
  },
  {
   "cell_type": "code",
   "execution_count": 4,
   "id": "7f4e29d5-7b63-48d4-be45-60bc8a86a1ec",
   "metadata": {},
   "outputs": [],
   "source": [
    "import numpy as np\n",
    "import pandas as pd\n",
    "from pandas import Series, DataFrame"
   ]
  },
  {
   "cell_type": "code",
   "execution_count": 5,
   "id": "17005cb3-3676-4727-a384-3ebea256a313",
   "metadata": {},
   "outputs": [
    {
     "data": {
      "text/html": [
       "<div>\n",
       "<style scoped>\n",
       "    .dataframe tbody tr th:only-of-type {\n",
       "        vertical-align: middle;\n",
       "    }\n",
       "\n",
       "    .dataframe tbody tr th {\n",
       "        vertical-align: top;\n",
       "    }\n",
       "\n",
       "    .dataframe thead th {\n",
       "        text-align: right;\n",
       "    }\n",
       "</style>\n",
       "<table border=\"1\" class=\"dataframe\">\n",
       "  <thead>\n",
       "    <tr style=\"text-align: right;\">\n",
       "      <th></th>\n",
       "      <th>v</th>\n",
       "      <th>w</th>\n",
       "      <th>x</th>\n",
       "      <th>y</th>\n",
       "      <th>z</th>\n",
       "    </tr>\n",
       "  </thead>\n",
       "  <tbody>\n",
       "    <tr>\n",
       "      <th>a</th>\n",
       "      <td>684</td>\n",
       "      <td>559</td>\n",
       "      <td>629</td>\n",
       "      <td>192</td>\n",
       "      <td>835</td>\n",
       "    </tr>\n",
       "    <tr>\n",
       "      <th>b</th>\n",
       "      <td>763</td>\n",
       "      <td>707</td>\n",
       "      <td>359</td>\n",
       "      <td>9</td>\n",
       "      <td>723</td>\n",
       "    </tr>\n",
       "    <tr>\n",
       "      <th>c</th>\n",
       "      <td>277</td>\n",
       "      <td>754</td>\n",
       "      <td>804</td>\n",
       "      <td>599</td>\n",
       "      <td>70</td>\n",
       "    </tr>\n",
       "    <tr>\n",
       "      <th>d</th>\n",
       "      <td>472</td>\n",
       "      <td>600</td>\n",
       "      <td>396</td>\n",
       "      <td>314</td>\n",
       "      <td>705</td>\n",
       "    </tr>\n",
       "  </tbody>\n",
       "</table>\n",
       "</div>"
      ],
      "text/plain": [
       "     v    w    x    y    z\n",
       "a  684  559  629  192  835\n",
       "b  763  707  359    9  723\n",
       "c  277  754  804  599   70\n",
       "d  472  600  396  314  705"
      ]
     },
     "execution_count": 5,
     "metadata": {},
     "output_type": "execute_result"
    }
   ],
   "source": [
    "np.random.seed(0)\n",
    "df = DataFrame(np.random.randint(0, 1000, [4,5]),\n",
    "               index=list('abcd'),\n",
    "               columns=list('vwxyz'))\n",
    "df\n",
    "               "
   ]
  },
  {
   "cell_type": "code",
   "execution_count": 6,
   "id": "ad2f5da5-7e72-4e06-bd71-e4758ccf7d7e",
   "metadata": {},
   "outputs": [
    {
     "name": "stdout",
     "output_type": "stream",
     "text": [
      "<class 'pandas.core.frame.DataFrame'>\n",
      "Index: 4 entries, a to d\n",
      "Data columns (total 5 columns):\n",
      " #   Column  Non-Null Count  Dtype\n",
      "---  ------  --------------  -----\n",
      " 0   v       4 non-null      int64\n",
      " 1   w       4 non-null      int64\n",
      " 2   x       4 non-null      int64\n",
      " 3   y       4 non-null      int64\n",
      " 4   z       4 non-null      int64\n",
      "dtypes: int64(5)\n",
      "memory usage: 192.0+ bytes\n"
     ]
    }
   ],
   "source": [
    "# how much memory does this data frame use?\n",
    "# I use df.info(), which both shows me info about my columns + rows, and gives me a memory summary\n",
    "\n",
    "df.info()"
   ]
  },
  {
   "cell_type": "code",
   "execution_count": 7,
   "id": "91a9f65f-16d4-4781-b686-9836c89971bf",
   "metadata": {},
   "outputs": [
    {
     "data": {
      "text/plain": [
       "160"
      ]
     },
     "execution_count": 7,
     "metadata": {},
     "output_type": "execute_result"
    }
   ],
   "source": [
    "4 * 5 * 8"
   ]
  },
  {
   "cell_type": "code",
   "execution_count": 8,
   "id": "452846c9-6c95-4f7b-a33b-b235abb236bb",
   "metadata": {},
   "outputs": [
    {
     "data": {
      "text/plain": [
       "Index(['a', 'b', 'c', 'd'], dtype='object')"
      ]
     },
     "execution_count": 8,
     "metadata": {},
     "output_type": "execute_result"
    }
   ],
   "source": [
    "# because the rows and columns have strings as names, Pandas does *not* store them in NumPy!\n",
    "# rather, it stores them as Python strings, and then refers to those strings from Pandas to Python memory space\n",
    "\n",
    "df.index"
   ]
  },
  {
   "cell_type": "code",
   "execution_count": 9,
   "id": "7f21b85e-82de-46f6-a124-bb60001efb8a",
   "metadata": {},
   "outputs": [
    {
     "data": {
      "text/plain": [
       "Index(['v', 'w', 'x', 'y', 'z'], dtype='object')"
      ]
     },
     "execution_count": 9,
     "metadata": {},
     "output_type": "execute_result"
    }
   ],
   "source": [
    "df.columns"
   ]
  },
  {
   "cell_type": "code",
   "execution_count": 10,
   "id": "7f48f213-25e7-4c0e-947f-ab87726fbb09",
   "metadata": {},
   "outputs": [
    {
     "name": "stdout",
     "output_type": "stream",
     "text": [
      "<class 'pandas.core.frame.DataFrame'>\n",
      "Index: 4 entries, a to d\n",
      "Data columns (total 5 columns):\n",
      " #   Column  Non-Null Count  Dtype\n",
      "---  ------  --------------  -----\n",
      " 0   v       4 non-null      int64\n",
      " 1   w       4 non-null      int64\n",
      " 2   x       4 non-null      int64\n",
      " 3   y       4 non-null      int64\n",
      " 4   z       4 non-null      int64\n",
      "dtypes: int64(5)\n",
      "memory usage: 360.0 bytes\n"
     ]
    }
   ],
   "source": [
    "# by passing memory_usage='deep', we say: Go and find the memory usage for each string\n",
    "df.info(memory_usage='deep')"
   ]
  },
  {
   "cell_type": "code",
   "execution_count": 11,
   "id": "be31f5b1-e764-4bc3-8b49-eed06014bdee",
   "metadata": {},
   "outputs": [],
   "source": [
    "# let's add a column\n",
    "\n",
    "df['s'] = ['hello', 'out', 'there', 'everyone']"
   ]
  },
  {
   "cell_type": "code",
   "execution_count": 12,
   "id": "d6589a1e-f5ee-4a6a-9312-b8edbbafc07e",
   "metadata": {},
   "outputs": [
    {
     "data": {
      "text/html": [
       "<div>\n",
       "<style scoped>\n",
       "    .dataframe tbody tr th:only-of-type {\n",
       "        vertical-align: middle;\n",
       "    }\n",
       "\n",
       "    .dataframe tbody tr th {\n",
       "        vertical-align: top;\n",
       "    }\n",
       "\n",
       "    .dataframe thead th {\n",
       "        text-align: right;\n",
       "    }\n",
       "</style>\n",
       "<table border=\"1\" class=\"dataframe\">\n",
       "  <thead>\n",
       "    <tr style=\"text-align: right;\">\n",
       "      <th></th>\n",
       "      <th>v</th>\n",
       "      <th>w</th>\n",
       "      <th>x</th>\n",
       "      <th>y</th>\n",
       "      <th>z</th>\n",
       "      <th>s</th>\n",
       "    </tr>\n",
       "  </thead>\n",
       "  <tbody>\n",
       "    <tr>\n",
       "      <th>a</th>\n",
       "      <td>684</td>\n",
       "      <td>559</td>\n",
       "      <td>629</td>\n",
       "      <td>192</td>\n",
       "      <td>835</td>\n",
       "      <td>hello</td>\n",
       "    </tr>\n",
       "    <tr>\n",
       "      <th>b</th>\n",
       "      <td>763</td>\n",
       "      <td>707</td>\n",
       "      <td>359</td>\n",
       "      <td>9</td>\n",
       "      <td>723</td>\n",
       "      <td>out</td>\n",
       "    </tr>\n",
       "    <tr>\n",
       "      <th>c</th>\n",
       "      <td>277</td>\n",
       "      <td>754</td>\n",
       "      <td>804</td>\n",
       "      <td>599</td>\n",
       "      <td>70</td>\n",
       "      <td>there</td>\n",
       "    </tr>\n",
       "    <tr>\n",
       "      <th>d</th>\n",
       "      <td>472</td>\n",
       "      <td>600</td>\n",
       "      <td>396</td>\n",
       "      <td>314</td>\n",
       "      <td>705</td>\n",
       "      <td>everyone</td>\n",
       "    </tr>\n",
       "  </tbody>\n",
       "</table>\n",
       "</div>"
      ],
      "text/plain": [
       "     v    w    x    y    z         s\n",
       "a  684  559  629  192  835     hello\n",
       "b  763  707  359    9  723       out\n",
       "c  277  754  804  599   70     there\n",
       "d  472  600  396  314  705  everyone"
      ]
     },
     "execution_count": 12,
     "metadata": {},
     "output_type": "execute_result"
    }
   ],
   "source": [
    "df"
   ]
  },
  {
   "cell_type": "code",
   "execution_count": 13,
   "id": "830d0742-7231-4f1e-993a-6fc0adecedf6",
   "metadata": {},
   "outputs": [
    {
     "name": "stdout",
     "output_type": "stream",
     "text": [
      "<class 'pandas.core.frame.DataFrame'>\n",
      "Index: 4 entries, a to d\n",
      "Data columns (total 6 columns):\n",
      " #   Column  Non-Null Count  Dtype \n",
      "---  ------  --------------  ----- \n",
      " 0   v       4 non-null      int64 \n",
      " 1   w       4 non-null      int64 \n",
      " 2   x       4 non-null      int64 \n",
      " 3   y       4 non-null      int64 \n",
      " 4   z       4 non-null      int64 \n",
      " 5   s       4 non-null      object\n",
      "dtypes: int64(5), object(1)\n",
      "memory usage: 577.0 bytes\n"
     ]
    }
   ],
   "source": [
    "df.info(memory_usage='deep')"
   ]
  },
  {
   "cell_type": "code",
   "execution_count": 15,
   "id": "c4b25f40-b214-4c47-ac39-fc8b2695ec5e",
   "metadata": {},
   "outputs": [
    {
     "name": "stdout",
     "output_type": "stream",
     "text": [
      "<class 'pandas.core.frame.DataFrame'>\n",
      "Index: 4 entries, a to d\n",
      "Data columns (total 6 columns):\n",
      " #   Column  Non-Null Count  Dtype \n",
      "---  ------  --------------  ----- \n",
      " 0   v       4 non-null      int64 \n",
      " 1   w       4 non-null      int64 \n",
      " 2   x       4 non-null      int64 \n",
      " 3   y       4 non-null      int64 \n",
      " 4   z       4 non-null      int64 \n",
      " 5   s       4 non-null      object\n",
      "dtypes: int64(5), object(1)\n",
      "memory usage: 224.0+ bytes\n"
     ]
    }
   ],
   "source": [
    "df.info()  # no memory_usage = deep, and it's still off\n"
   ]
  },
  {
   "cell_type": "code",
   "execution_count": 16,
   "id": "19ccc81b-2189-4430-ac61-6d6a3ca4477c",
   "metadata": {},
   "outputs": [],
   "source": [
    "# let's assign a new string to one value\n",
    "\n",
    "df.loc['a', 's'] = 'abcdefghij' * 10_000_000"
   ]
  },
  {
   "cell_type": "code",
   "execution_count": 17,
   "id": "782cb1dc-edab-4c79-9d6f-ad350a547265",
   "metadata": {},
   "outputs": [
    {
     "name": "stdout",
     "output_type": "stream",
     "text": [
      "<class 'pandas.core.frame.DataFrame'>\n",
      "Index: 4 entries, a to d\n",
      "Data columns (total 6 columns):\n",
      " #   Column  Non-Null Count  Dtype \n",
      "---  ------  --------------  ----- \n",
      " 0   v       4 non-null      int64 \n",
      " 1   w       4 non-null      int64 \n",
      " 2   x       4 non-null      int64 \n",
      " 3   y       4 non-null      int64 \n",
      " 4   z       4 non-null      int64 \n",
      " 5   s       4 non-null      object\n",
      "dtypes: int64(5), object(1)\n",
      "memory usage: 396.0+ bytes\n"
     ]
    }
   ],
   "source": [
    "df.info()  # no deep -- how much memory"
   ]
  },
  {
   "cell_type": "code",
   "execution_count": 18,
   "id": "4f1a0869-91f7-4838-8709-232f2a814010",
   "metadata": {},
   "outputs": [
    {
     "name": "stdout",
     "output_type": "stream",
     "text": [
      "<class 'pandas.core.frame.DataFrame'>\n",
      "Index: 4 entries, a to d\n",
      "Data columns (total 6 columns):\n",
      " #   Column  Non-Null Count  Dtype \n",
      "---  ------  --------------  ----- \n",
      " 0   v       4 non-null      int64 \n",
      " 1   w       4 non-null      int64 \n",
      " 2   x       4 non-null      int64 \n",
      " 3   y       4 non-null      int64 \n",
      " 4   z       4 non-null      int64 \n",
      " 5   s       4 non-null      object\n",
      "dtypes: int64(5), object(1)\n",
      "memory usage: 95.4 MB\n"
     ]
    }
   ],
   "source": [
    "df.info(memory_usage='deep')"
   ]
  },
  {
   "cell_type": "markdown",
   "id": "ce0f0530-a573-4ee8-a0ff-60231350f53a",
   "metadata": {},
   "source": [
    "# Using PyArrow today\n",
    "\n",
    "We often read CSV files from disk into Pandas. A big CSV file can take a long time to load. That's because Pandas uses\n",
    "a relatively slow engine for reading data.\n",
    "\n",
    "We can replace it, with almost zero effort, with PyArrow's CSV-loading facility. "
   ]
  },
  {
   "cell_type": "code",
   "execution_count": 19,
   "id": "eb44e951-72fb-4607-8340-0e2471ddf833",
   "metadata": {},
   "outputs": [],
   "source": [
    "filename = '/Users/reuven/Courses/Current/Data/nyc_taxi_2019-01.csv'"
   ]
  },
  {
   "cell_type": "code",
   "execution_count": 20,
   "id": "2b9b4043-7c17-494e-96b5-142095fde434",
   "metadata": {},
   "outputs": [
    {
     "name": "stdout",
     "output_type": "stream",
     "text": [
      "-rw-r--r-- 1 reuven staff 656M Jun  4  2021 /Users/reuven/Courses/Current/Data/nyc_taxi_2019-01.csv\n"
     ]
    }
   ],
   "source": [
    "!ls -lh $filename"
   ]
  },
  {
   "cell_type": "code",
   "execution_count": 22,
   "id": "abe846cb-5d5f-47fb-8016-b8badf1e4981",
   "metadata": {},
   "outputs": [
    {
     "name": "stdout",
     "output_type": "stream",
     "text": [
      "Total is 11.839046955108643\n"
     ]
    }
   ],
   "source": [
    "# how long does it take to load this data into Pandas?\n",
    "\n",
    "import time\n",
    "\n",
    "start_time = time.time()\n",
    "df = pd.read_csv(filename)\n",
    "end_time = time.time()\n",
    "\n",
    "print(f'Total is {end_time - start_time}')"
   ]
  },
  {
   "cell_type": "code",
   "execution_count": 23,
   "id": "304bc984-1e48-4f32-a40a-91eb733f370a",
   "metadata": {},
   "outputs": [
    {
     "name": "stdout",
     "output_type": "stream",
     "text": [
      "Total is 1.0558300018310547\n"
     ]
    }
   ],
   "source": [
    "# Let's use PyArrow instead\n",
    "\n",
    "import time\n",
    "\n",
    "start_time = time.time()\n",
    "df = pd.read_csv(filename, engine='pyarrow')\n",
    "end_time = time.time()\n",
    "\n",
    "print(f'Total is {end_time - start_time}')"
   ]
  },
  {
   "cell_type": "code",
   "execution_count": 24,
   "id": "1fd5e75d-ed9e-4d0a-98ac-c6ca34a4685e",
   "metadata": {},
   "outputs": [
    {
     "data": {
      "text/plain": [
       "VendorID                         int64\n",
       "tpep_pickup_datetime     datetime64[s]\n",
       "tpep_dropoff_datetime    datetime64[s]\n",
       "passenger_count                  int64\n",
       "trip_distance                  float64\n",
       "RatecodeID                       int64\n",
       "store_and_fwd_flag              object\n",
       "PULocationID                     int64\n",
       "DOLocationID                     int64\n",
       "payment_type                     int64\n",
       "fare_amount                    float64\n",
       "extra                          float64\n",
       "mta_tax                        float64\n",
       "tip_amount                     float64\n",
       "tolls_amount                   float64\n",
       "improvement_surcharge          float64\n",
       "total_amount                   float64\n",
       "congestion_surcharge           float64\n",
       "dtype: object"
      ]
     },
     "execution_count": 24,
     "metadata": {},
     "output_type": "execute_result"
    }
   ],
   "source": [
    "df.dtypes"
   ]
  },
  {
   "cell_type": "code",
   "execution_count": 26,
   "id": "dfc9a539-26e8-42e5-b9e6-0073b9131d38",
   "metadata": {},
   "outputs": [
    {
     "data": {
      "text/plain": [
       "numpy.ndarray"
      ]
     },
     "execution_count": 26,
     "metadata": {},
     "output_type": "execute_result"
    }
   ],
   "source": [
    "type(df.values)"
   ]
  },
  {
   "cell_type": "markdown",
   "id": "4e92d536-9e95-476f-b9e8-4867fb6cdc11",
   "metadata": {},
   "source": [
    "# CSV is slow (because it's text)\n",
    "\n",
    "Apache Arrow has two of its own (binary) formats that we can use for storing and retrieving data. This will always be much faster than CSV.\n",
    "\n",
    "Arrow supports two formats:\n",
    "\n",
    "- Feather -- faster reads/writes, but no compression (so you have larger files)\n",
    "- Parquet -- slower reads/writes, but heavy compression (so you have smaller files)"
   ]
  },
  {
   "cell_type": "code",
   "execution_count": 27,
   "id": "d445d618-cb63-40a9-a7d7-0564b017e3cb",
   "metadata": {},
   "outputs": [],
   "source": [
    "df.to_feather('taxis.feather')"
   ]
  },
  {
   "cell_type": "code",
   "execution_count": 28,
   "id": "efea0069-5f5c-4b39-8d7b-24035a69d359",
   "metadata": {},
   "outputs": [],
   "source": [
    "df.to_parquet('taxis.parquet')"
   ]
  },
  {
   "cell_type": "code",
   "execution_count": 29,
   "id": "6fb54f8f-4bdc-4fb0-bdde-02813d4c90a7",
   "metadata": {},
   "outputs": [
    {
     "name": "stdout",
     "output_type": "stream",
     "text": [
      "-rw-r--r-- 1 reuven staff 254M Jun 19 11:20 taxis.feather\n",
      "-rw-r--r-- 1 reuven staff 126M Jun 19 11:20 taxis.parquet\n"
     ]
    }
   ],
   "source": [
    "!ls -lh taxis.*"
   ]
  },
  {
   "cell_type": "code",
   "execution_count": 30,
   "id": "08cc8cbb-ae88-4ceb-8fa0-3f9103db07d0",
   "metadata": {},
   "outputs": [
    {
     "name": "stdout",
     "output_type": "stream",
     "text": [
      "Total is 0.6063899993896484\n"
     ]
    }
   ],
   "source": [
    "start_time = time.time()\n",
    "df = pd.read_feather('taxis.feather')\n",
    "end_time = time.time()\n",
    "\n",
    "print(f'Total is {end_time - start_time}')"
   ]
  },
  {
   "cell_type": "code",
   "execution_count": 31,
   "id": "d91deff9-825f-45dc-b01e-2f8203ab1fe2",
   "metadata": {},
   "outputs": [
    {
     "name": "stdout",
     "output_type": "stream",
     "text": [
      "Total is 2.074265956878662\n"
     ]
    }
   ],
   "source": [
    "start_time = time.time()\n",
    "df = pd.read_parquet('taxis.parquet')\n",
    "end_time = time.time()\n",
    "\n",
    "print(f'Total is {end_time - start_time}')"
   ]
  },
  {
   "cell_type": "code",
   "execution_count": 32,
   "id": "a9bb5ecc-ff27-4edf-b6de-b3b98e63b382",
   "metadata": {},
   "outputs": [
    {
     "data": {
      "text/plain": [
       "VendorID                          int64\n",
       "tpep_pickup_datetime     datetime64[ms]\n",
       "tpep_dropoff_datetime    datetime64[ms]\n",
       "passenger_count                   int64\n",
       "trip_distance                   float64\n",
       "RatecodeID                        int64\n",
       "store_and_fwd_flag               object\n",
       "PULocationID                      int64\n",
       "DOLocationID                      int64\n",
       "payment_type                      int64\n",
       "fare_amount                     float64\n",
       "extra                           float64\n",
       "mta_tax                         float64\n",
       "tip_amount                      float64\n",
       "tolls_amount                    float64\n",
       "improvement_surcharge           float64\n",
       "total_amount                    float64\n",
       "congestion_surcharge            float64\n",
       "dtype: object"
      ]
     },
     "execution_count": 32,
     "metadata": {},
     "output_type": "execute_result"
    }
   ],
   "source": [
    "df.dtypes"
   ]
  },
  {
   "cell_type": "markdown",
   "id": "bcd43108-2919-49d1-a623-a208bf1da77a",
   "metadata": {},
   "source": [
    "# How about using PyArrow as the backend for Pandas?\n",
    "\n",
    "The future, as I described, will eventually have PyArrow replace NumPy. We can experiment with that today, by specifying this in various ways."
   ]
  },
  {
   "cell_type": "code",
   "execution_count": 33,
   "id": "999f74c2-32f4-4490-8d5f-4b4c66584a20",
   "metadata": {},
   "outputs": [
    {
     "data": {
      "text/plain": [
       "dtype('int64')"
      ]
     },
     "execution_count": 33,
     "metadata": {},
     "output_type": "execute_result"
    }
   ],
   "source": [
    "s = Series([10, 20, 30, 40, 50])\n",
    "s.dtypes"
   ]
  },
  {
   "cell_type": "code",
   "execution_count": 34,
   "id": "772cec9f-2ce0-4e27-b559-938e3a439b7f",
   "metadata": {},
   "outputs": [
    {
     "data": {
      "text/plain": [
       "dtype('int32')"
      ]
     },
     "execution_count": 34,
     "metadata": {},
     "output_type": "execute_result"
    }
   ],
   "source": [
    "s = Series([10, 20, 30, 40, 50], dtype='int32')\n",
    "s.dtypes"
   ]
  },
  {
   "cell_type": "code",
   "execution_count": 35,
   "id": "f9f68871-a9ed-4572-b898-c4456750027b",
   "metadata": {},
   "outputs": [
    {
     "data": {
      "text/plain": [
       "int32[pyarrow]"
      ]
     },
     "execution_count": 35,
     "metadata": {},
     "output_type": "execute_result"
    }
   ],
   "source": [
    "# we can specify that a series should use PyArrow's types\n",
    "s = Series([10, 20, 30, 40, 50], dtype='int32[pyarrow]')\n",
    "s.dtypes"
   ]
  },
  {
   "cell_type": "code",
   "execution_count": 36,
   "id": "3a2c384f-550b-48df-85bd-62b19ad4d809",
   "metadata": {},
   "outputs": [
    {
     "data": {
      "text/plain": [
       "0   -126\n",
       "1   -116\n",
       "2   -106\n",
       "3    -96\n",
       "4    -86\n",
       "dtype: int8"
      ]
     },
     "execution_count": 36,
     "metadata": {},
     "output_type": "execute_result"
    }
   ],
   "source": [
    "# This can have big implications, especially now that we're using NumPy 2.0\n",
    "\n",
    "s = Series([10, 20, 30, 40, 50], dtype='int8')\n",
    "s + 120"
   ]
  },
  {
   "cell_type": "code",
   "execution_count": 37,
   "id": "991577e2-6cf0-40ee-9bc0-ff3e4364c6fa",
   "metadata": {},
   "outputs": [
    {
     "ename": "OverflowError",
     "evalue": "Python integer 1000 out of bounds for int8",
     "output_type": "error",
     "traceback": [
      "\u001b[0;31m---------------------------------------------------------------------------\u001b[0m",
      "\u001b[0;31mOverflowError\u001b[0m                             Traceback (most recent call last)",
      "Cell \u001b[0;32mIn[37], line 2\u001b[0m\n\u001b[1;32m      1\u001b[0m s \u001b[38;5;241m=\u001b[39m Series([\u001b[38;5;241m10\u001b[39m, \u001b[38;5;241m20\u001b[39m, \u001b[38;5;241m30\u001b[39m, \u001b[38;5;241m40\u001b[39m, \u001b[38;5;241m50\u001b[39m], dtype\u001b[38;5;241m=\u001b[39m\u001b[38;5;124m'\u001b[39m\u001b[38;5;124mint8\u001b[39m\u001b[38;5;124m'\u001b[39m)\n\u001b[0;32m----> 2\u001b[0m \u001b[43ms\u001b[49m\u001b[43m \u001b[49m\u001b[38;5;241;43m+\u001b[39;49m\u001b[43m \u001b[49m\u001b[38;5;241;43m1000\u001b[39;49m  \u001b[38;5;66;03m# previous versions of NumPy would identify that 1,000 needs 16 bits, promote the series, and perform the calculation\u001b[39;00m\n",
      "File \u001b[0;32m~/.pyenv/versions/3.12.1/lib/python3.12/site-packages/pandas/core/ops/common.py:76\u001b[0m, in \u001b[0;36m_unpack_zerodim_and_defer.<locals>.new_method\u001b[0;34m(self, other)\u001b[0m\n\u001b[1;32m     72\u001b[0m             \u001b[38;5;28;01mreturn\u001b[39;00m \u001b[38;5;28mNotImplemented\u001b[39m\n\u001b[1;32m     74\u001b[0m other \u001b[38;5;241m=\u001b[39m item_from_zerodim(other)\n\u001b[0;32m---> 76\u001b[0m \u001b[38;5;28;01mreturn\u001b[39;00m \u001b[43mmethod\u001b[49m\u001b[43m(\u001b[49m\u001b[38;5;28;43mself\u001b[39;49m\u001b[43m,\u001b[49m\u001b[43m \u001b[49m\u001b[43mother\u001b[49m\u001b[43m)\u001b[49m\n",
      "File \u001b[0;32m~/.pyenv/versions/3.12.1/lib/python3.12/site-packages/pandas/core/arraylike.py:186\u001b[0m, in \u001b[0;36mOpsMixin.__add__\u001b[0;34m(self, other)\u001b[0m\n\u001b[1;32m     98\u001b[0m \u001b[38;5;129m@unpack_zerodim_and_defer\u001b[39m(\u001b[38;5;124m\"\u001b[39m\u001b[38;5;124m__add__\u001b[39m\u001b[38;5;124m\"\u001b[39m)\n\u001b[1;32m     99\u001b[0m \u001b[38;5;28;01mdef\u001b[39;00m \u001b[38;5;21m__add__\u001b[39m(\u001b[38;5;28mself\u001b[39m, other):\n\u001b[1;32m    100\u001b[0m \u001b[38;5;250m    \u001b[39m\u001b[38;5;124;03m\"\"\"\u001b[39;00m\n\u001b[1;32m    101\u001b[0m \u001b[38;5;124;03m    Get Addition of DataFrame and other, column-wise.\u001b[39;00m\n\u001b[1;32m    102\u001b[0m \n\u001b[0;32m   (...)\u001b[0m\n\u001b[1;32m    184\u001b[0m \u001b[38;5;124;03m    moose     3.0     NaN\u001b[39;00m\n\u001b[1;32m    185\u001b[0m \u001b[38;5;124;03m    \"\"\"\u001b[39;00m\n\u001b[0;32m--> 186\u001b[0m     \u001b[38;5;28;01mreturn\u001b[39;00m \u001b[38;5;28;43mself\u001b[39;49m\u001b[38;5;241;43m.\u001b[39;49m\u001b[43m_arith_method\u001b[49m\u001b[43m(\u001b[49m\u001b[43mother\u001b[49m\u001b[43m,\u001b[49m\u001b[43m \u001b[49m\u001b[43moperator\u001b[49m\u001b[38;5;241;43m.\u001b[39;49m\u001b[43madd\u001b[49m\u001b[43m)\u001b[49m\n",
      "File \u001b[0;32m~/.pyenv/versions/3.12.1/lib/python3.12/site-packages/pandas/core/series.py:6135\u001b[0m, in \u001b[0;36mSeries._arith_method\u001b[0;34m(self, other, op)\u001b[0m\n\u001b[1;32m   6133\u001b[0m \u001b[38;5;28;01mdef\u001b[39;00m \u001b[38;5;21m_arith_method\u001b[39m(\u001b[38;5;28mself\u001b[39m, other, op):\n\u001b[1;32m   6134\u001b[0m     \u001b[38;5;28mself\u001b[39m, other \u001b[38;5;241m=\u001b[39m \u001b[38;5;28mself\u001b[39m\u001b[38;5;241m.\u001b[39m_align_for_op(other)\n\u001b[0;32m-> 6135\u001b[0m     \u001b[38;5;28;01mreturn\u001b[39;00m \u001b[43mbase\u001b[49m\u001b[38;5;241;43m.\u001b[39;49m\u001b[43mIndexOpsMixin\u001b[49m\u001b[38;5;241;43m.\u001b[39;49m\u001b[43m_arith_method\u001b[49m\u001b[43m(\u001b[49m\u001b[38;5;28;43mself\u001b[39;49m\u001b[43m,\u001b[49m\u001b[43m \u001b[49m\u001b[43mother\u001b[49m\u001b[43m,\u001b[49m\u001b[43m \u001b[49m\u001b[43mop\u001b[49m\u001b[43m)\u001b[49m\n",
      "File \u001b[0;32m~/.pyenv/versions/3.12.1/lib/python3.12/site-packages/pandas/core/base.py:1382\u001b[0m, in \u001b[0;36mIndexOpsMixin._arith_method\u001b[0;34m(self, other, op)\u001b[0m\n\u001b[1;32m   1379\u001b[0m     rvalues \u001b[38;5;241m=\u001b[39m np\u001b[38;5;241m.\u001b[39marange(rvalues\u001b[38;5;241m.\u001b[39mstart, rvalues\u001b[38;5;241m.\u001b[39mstop, rvalues\u001b[38;5;241m.\u001b[39mstep)\n\u001b[1;32m   1381\u001b[0m \u001b[38;5;28;01mwith\u001b[39;00m np\u001b[38;5;241m.\u001b[39merrstate(\u001b[38;5;28mall\u001b[39m\u001b[38;5;241m=\u001b[39m\u001b[38;5;124m\"\u001b[39m\u001b[38;5;124mignore\u001b[39m\u001b[38;5;124m\"\u001b[39m):\n\u001b[0;32m-> 1382\u001b[0m     result \u001b[38;5;241m=\u001b[39m \u001b[43mops\u001b[49m\u001b[38;5;241;43m.\u001b[39;49m\u001b[43marithmetic_op\u001b[49m\u001b[43m(\u001b[49m\u001b[43mlvalues\u001b[49m\u001b[43m,\u001b[49m\u001b[43m \u001b[49m\u001b[43mrvalues\u001b[49m\u001b[43m,\u001b[49m\u001b[43m \u001b[49m\u001b[43mop\u001b[49m\u001b[43m)\u001b[49m\n\u001b[1;32m   1384\u001b[0m \u001b[38;5;28;01mreturn\u001b[39;00m \u001b[38;5;28mself\u001b[39m\u001b[38;5;241m.\u001b[39m_construct_result(result, name\u001b[38;5;241m=\u001b[39mres_name)\n",
      "File \u001b[0;32m~/.pyenv/versions/3.12.1/lib/python3.12/site-packages/pandas/core/ops/array_ops.py:283\u001b[0m, in \u001b[0;36marithmetic_op\u001b[0;34m(left, right, op)\u001b[0m\n\u001b[1;32m    279\u001b[0m     _bool_arith_check(op, left, right)  \u001b[38;5;66;03m# type: ignore[arg-type]\u001b[39;00m\n\u001b[1;32m    281\u001b[0m     \u001b[38;5;66;03m# error: Argument 1 to \"_na_arithmetic_op\" has incompatible type\u001b[39;00m\n\u001b[1;32m    282\u001b[0m     \u001b[38;5;66;03m# \"Union[ExtensionArray, ndarray[Any, Any]]\"; expected \"ndarray[Any, Any]\"\u001b[39;00m\n\u001b[0;32m--> 283\u001b[0m     res_values \u001b[38;5;241m=\u001b[39m \u001b[43m_na_arithmetic_op\u001b[49m\u001b[43m(\u001b[49m\u001b[43mleft\u001b[49m\u001b[43m,\u001b[49m\u001b[43m \u001b[49m\u001b[43mright\u001b[49m\u001b[43m,\u001b[49m\u001b[43m \u001b[49m\u001b[43mop\u001b[49m\u001b[43m)\u001b[49m  \u001b[38;5;66;03m# type: ignore[arg-type]\u001b[39;00m\n\u001b[1;32m    285\u001b[0m \u001b[38;5;28;01mreturn\u001b[39;00m res_values\n",
      "File \u001b[0;32m~/.pyenv/versions/3.12.1/lib/python3.12/site-packages/pandas/core/ops/array_ops.py:218\u001b[0m, in \u001b[0;36m_na_arithmetic_op\u001b[0;34m(left, right, op, is_cmp)\u001b[0m\n\u001b[1;32m    215\u001b[0m     func \u001b[38;5;241m=\u001b[39m partial(expressions\u001b[38;5;241m.\u001b[39mevaluate, op)\n\u001b[1;32m    217\u001b[0m \u001b[38;5;28;01mtry\u001b[39;00m:\n\u001b[0;32m--> 218\u001b[0m     result \u001b[38;5;241m=\u001b[39m \u001b[43mfunc\u001b[49m\u001b[43m(\u001b[49m\u001b[43mleft\u001b[49m\u001b[43m,\u001b[49m\u001b[43m \u001b[49m\u001b[43mright\u001b[49m\u001b[43m)\u001b[49m\n\u001b[1;32m    219\u001b[0m \u001b[38;5;28;01mexcept\u001b[39;00m \u001b[38;5;167;01mTypeError\u001b[39;00m:\n\u001b[1;32m    220\u001b[0m     \u001b[38;5;28;01mif\u001b[39;00m \u001b[38;5;129;01mnot\u001b[39;00m is_cmp \u001b[38;5;129;01mand\u001b[39;00m (\n\u001b[1;32m    221\u001b[0m         left\u001b[38;5;241m.\u001b[39mdtype \u001b[38;5;241m==\u001b[39m \u001b[38;5;28mobject\u001b[39m \u001b[38;5;129;01mor\u001b[39;00m \u001b[38;5;28mgetattr\u001b[39m(right, \u001b[38;5;124m\"\u001b[39m\u001b[38;5;124mdtype\u001b[39m\u001b[38;5;124m\"\u001b[39m, \u001b[38;5;28;01mNone\u001b[39;00m) \u001b[38;5;241m==\u001b[39m \u001b[38;5;28mobject\u001b[39m\n\u001b[1;32m    222\u001b[0m     ):\n\u001b[0;32m   (...)\u001b[0m\n\u001b[1;32m    225\u001b[0m         \u001b[38;5;66;03m# Don't do this for comparisons, as that will handle complex numbers\u001b[39;00m\n\u001b[1;32m    226\u001b[0m         \u001b[38;5;66;03m#  incorrectly, see GH#32047\u001b[39;00m\n",
      "File \u001b[0;32m~/.pyenv/versions/3.12.1/lib/python3.12/site-packages/pandas/core/computation/expressions.py:242\u001b[0m, in \u001b[0;36mevaluate\u001b[0;34m(op, a, b, use_numexpr)\u001b[0m\n\u001b[1;32m    239\u001b[0m \u001b[38;5;28;01mif\u001b[39;00m op_str \u001b[38;5;129;01mis\u001b[39;00m \u001b[38;5;129;01mnot\u001b[39;00m \u001b[38;5;28;01mNone\u001b[39;00m:\n\u001b[1;32m    240\u001b[0m     \u001b[38;5;28;01mif\u001b[39;00m use_numexpr:\n\u001b[1;32m    241\u001b[0m         \u001b[38;5;66;03m# error: \"None\" not callable\u001b[39;00m\n\u001b[0;32m--> 242\u001b[0m         \u001b[38;5;28;01mreturn\u001b[39;00m \u001b[43m_evaluate\u001b[49m\u001b[43m(\u001b[49m\u001b[43mop\u001b[49m\u001b[43m,\u001b[49m\u001b[43m \u001b[49m\u001b[43mop_str\u001b[49m\u001b[43m,\u001b[49m\u001b[43m \u001b[49m\u001b[43ma\u001b[49m\u001b[43m,\u001b[49m\u001b[43m \u001b[49m\u001b[43mb\u001b[49m\u001b[43m)\u001b[49m  \u001b[38;5;66;03m# type: ignore[misc]\u001b[39;00m\n\u001b[1;32m    243\u001b[0m \u001b[38;5;28;01mreturn\u001b[39;00m _evaluate_standard(op, op_str, a, b)\n",
      "File \u001b[0;32m~/.pyenv/versions/3.12.1/lib/python3.12/site-packages/pandas/core/computation/expressions.py:73\u001b[0m, in \u001b[0;36m_evaluate_standard\u001b[0;34m(op, op_str, a, b)\u001b[0m\n\u001b[1;32m     71\u001b[0m \u001b[38;5;28;01mif\u001b[39;00m _TEST_MODE:\n\u001b[1;32m     72\u001b[0m     _store_test_result(\u001b[38;5;28;01mFalse\u001b[39;00m)\n\u001b[0;32m---> 73\u001b[0m \u001b[38;5;28;01mreturn\u001b[39;00m \u001b[43mop\u001b[49m\u001b[43m(\u001b[49m\u001b[43ma\u001b[49m\u001b[43m,\u001b[49m\u001b[43m \u001b[49m\u001b[43mb\u001b[49m\u001b[43m)\u001b[49m\n",
      "\u001b[0;31mOverflowError\u001b[0m: Python integer 1000 out of bounds for int8"
     ]
    }
   ],
   "source": [
    "s = Series([10, 20, 30, 40, 50], dtype='int8')\n",
    "s + 1000  # previous versions of NumPy would identify that 1,000 needs 16 bits, promote the series, and perform the calculation"
   ]
  },
  {
   "cell_type": "code",
   "execution_count": 39,
   "id": "761a9208-3853-4787-817f-6653156cdd8c",
   "metadata": {},
   "outputs": [
    {
     "data": {
      "text/plain": [
       "0    130\n",
       "1    140\n",
       "2    150\n",
       "3    160\n",
       "4    170\n",
       "dtype: int64[pyarrow]"
      ]
     },
     "execution_count": 39,
     "metadata": {},
     "output_type": "execute_result"
    }
   ],
   "source": [
    "s = Series([10, 20, 30, 40, 50], dtype='int8[pyarrow]')\n",
    "s + 120"
   ]
  },
  {
   "cell_type": "code",
   "execution_count": 40,
   "id": "34861723-27dc-439f-adb2-dd0dede785ea",
   "metadata": {},
   "outputs": [
    {
     "data": {
      "text/plain": [
       "0    1010\n",
       "1    1020\n",
       "2    1030\n",
       "3    1040\n",
       "4    1050\n",
       "dtype: int64[pyarrow]"
      ]
     },
     "execution_count": 40,
     "metadata": {},
     "output_type": "execute_result"
    }
   ],
   "source": [
    "s = Series([10, 20, 30, 40, 50], dtype='int8[pyarrow]')\n",
    "s + 1000"
   ]
  },
  {
   "cell_type": "code",
   "execution_count": 41,
   "id": "6d3d21cd-e1cb-42fb-ab88-816be2a1a3cc",
   "metadata": {},
   "outputs": [
    {
     "data": {
      "text/plain": [
       "<ArrowExtensionArray>\n",
       "[10, 20, 30, 40, 50]\n",
       "Length: 5, dtype: int8[pyarrow]"
      ]
     },
     "execution_count": 41,
     "metadata": {},
     "output_type": "execute_result"
    }
   ],
   "source": [
    "s.values"
   ]
  },
  {
   "cell_type": "code",
   "execution_count": 51,
   "id": "86c3c9b2-163d-4942-bdfd-914b3af42384",
   "metadata": {},
   "outputs": [
    {
     "name": "stdout",
     "output_type": "stream",
     "text": [
      "<class 'pandas.core.frame.DataFrame'>\n",
      "RangeIndex: 7667792 entries, 0 to 7667791\n",
      "Data columns (total 18 columns):\n",
      " #   Column                 Dtype        \n",
      "---  ------                 -----        \n",
      " 0   VendorID               int64        \n",
      " 1   tpep_pickup_datetime   datetime64[s]\n",
      " 2   tpep_dropoff_datetime  datetime64[s]\n",
      " 3   passenger_count        int64        \n",
      " 4   trip_distance          float64      \n",
      " 5   RatecodeID             int64        \n",
      " 6   store_and_fwd_flag     object       \n",
      " 7   PULocationID           int64        \n",
      " 8   DOLocationID           int64        \n",
      " 9   payment_type           int64        \n",
      " 10  fare_amount            float64      \n",
      " 11  extra                  float64      \n",
      " 12  mta_tax                float64      \n",
      " 13  tip_amount             float64      \n",
      " 14  tolls_amount           float64      \n",
      " 15  improvement_surcharge  float64      \n",
      " 16  total_amount           float64      \n",
      " 17  congestion_surcharge   float64      \n",
      "dtypes: datetime64[s](2), float64(9), int64(6), object(1)\n",
      "memory usage: 1.3 GB\n"
     ]
    }
   ],
   "source": [
    "df_np = pd.read_csv(filename, engine='pyarrow')\n",
    "df_np.info(memory_usage='deep')"
   ]
  },
  {
   "cell_type": "code",
   "execution_count": 52,
   "id": "5615522d-5d01-4966-b62b-4b561a9fa736",
   "metadata": {},
   "outputs": [],
   "source": [
    "# we can tell read_csv that we want to use PyArrow as our dtype_backend\n",
    "# this is experimental!\n",
    "\n",
    "df_pa = pd.read_csv(filename, engine='pyarrow', dtype_backend='pyarrow')"
   ]
  },
  {
   "cell_type": "code",
   "execution_count": 53,
   "id": "e51f0c5d-8c74-45f8-b92c-cbf3fa3883b7",
   "metadata": {},
   "outputs": [
    {
     "data": {
      "text/plain": [
       "VendorID                        int64[pyarrow]\n",
       "tpep_pickup_datetime     timestamp[s][pyarrow]\n",
       "tpep_dropoff_datetime    timestamp[s][pyarrow]\n",
       "passenger_count                 int64[pyarrow]\n",
       "trip_distance                  double[pyarrow]\n",
       "RatecodeID                      int64[pyarrow]\n",
       "store_and_fwd_flag             string[pyarrow]\n",
       "PULocationID                    int64[pyarrow]\n",
       "DOLocationID                    int64[pyarrow]\n",
       "payment_type                    int64[pyarrow]\n",
       "fare_amount                    double[pyarrow]\n",
       "extra                          double[pyarrow]\n",
       "mta_tax                        double[pyarrow]\n",
       "tip_amount                     double[pyarrow]\n",
       "tolls_amount                   double[pyarrow]\n",
       "improvement_surcharge          double[pyarrow]\n",
       "total_amount                   double[pyarrow]\n",
       "congestion_surcharge           double[pyarrow]\n",
       "dtype: object"
      ]
     },
     "execution_count": 53,
     "metadata": {},
     "output_type": "execute_result"
    }
   ],
   "source": [
    "df_pa.dtypes"
   ]
  },
  {
   "cell_type": "code",
   "execution_count": 54,
   "id": "fcbda5c2-8059-446e-b150-df3f85e4bccc",
   "metadata": {},
   "outputs": [
    {
     "name": "stdout",
     "output_type": "stream",
     "text": [
      "<class 'pandas.core.frame.DataFrame'>\n",
      "RangeIndex: 7667792 entries, 0 to 7667791\n",
      "Data columns (total 18 columns):\n",
      " #   Column                 Dtype                \n",
      "---  ------                 -----                \n",
      " 0   VendorID               int64[pyarrow]       \n",
      " 1   tpep_pickup_datetime   timestamp[s][pyarrow]\n",
      " 2   tpep_dropoff_datetime  timestamp[s][pyarrow]\n",
      " 3   passenger_count        int64[pyarrow]       \n",
      " 4   trip_distance          double[pyarrow]      \n",
      " 5   RatecodeID             int64[pyarrow]       \n",
      " 6   store_and_fwd_flag     string[pyarrow]      \n",
      " 7   PULocationID           int64[pyarrow]       \n",
      " 8   DOLocationID           int64[pyarrow]       \n",
      " 9   payment_type           int64[pyarrow]       \n",
      " 10  fare_amount            double[pyarrow]      \n",
      " 11  extra                  double[pyarrow]      \n",
      " 12  mta_tax                double[pyarrow]      \n",
      " 13  tip_amount             double[pyarrow]      \n",
      " 14  tolls_amount           double[pyarrow]      \n",
      " 15  improvement_surcharge  double[pyarrow]      \n",
      " 16  total_amount           double[pyarrow]      \n",
      " 17  congestion_surcharge   double[pyarrow]      \n",
      "dtypes: double[pyarrow](9), int64[pyarrow](6), string[pyarrow](1), timestamp[s][pyarrow](2)\n",
      "memory usage: 1.0 GB\n"
     ]
    }
   ],
   "source": [
    "df_pa.info(memory_usage='deep')"
   ]
  },
  {
   "cell_type": "code",
   "execution_count": 55,
   "id": "a805cd4b-ba3f-46e3-b69f-7a3cb4881f4d",
   "metadata": {},
   "outputs": [],
   "source": [
    "# let's compare retrieving rows from df_np vs. df_pa\n",
    "\n"
   ]
  },
  {
   "cell_type": "code",
   "execution_count": 56,
   "id": "81a95af8-6f01-4649-9317-805b8e969cbd",
   "metadata": {},
   "outputs": [
    {
     "name": "stdout",
     "output_type": "stream",
     "text": [
      "364 µs ± 11.8 µs per loop (mean ± std. dev. of 7 runs, 1,000 loops each)\n"
     ]
    }
   ],
   "source": [
    "%timeit df_np.loc[[10, 20, 1000, 10000, 500000]]"
   ]
  },
  {
   "cell_type": "code",
   "execution_count": 57,
   "id": "5675215c-7ae0-4216-aba4-8421fb90c583",
   "metadata": {},
   "outputs": [
    {
     "name": "stdout",
     "output_type": "stream",
     "text": [
      "652 ms ± 9.1 ms per loop (mean ± std. dev. of 7 runs, 1 loop each)\n"
     ]
    }
   ],
   "source": [
    "%timeit df_pa.loc[[10, 20, 1000, 10000, 500000]]"
   ]
  },
  {
   "cell_type": "code",
   "execution_count": 60,
   "id": "ae0182cd-de47-4bd0-b3a1-e59dd4b8f059",
   "metadata": {},
   "outputs": [
    {
     "name": "stdout",
     "output_type": "stream",
     "text": [
      "71.1 ms ± 425 µs per loop (mean ± std. dev. of 7 runs, 10 loops each)\n"
     ]
    }
   ],
   "source": [
    "# what about retrieving columns?\n",
    "\n",
    "%timeit df_np[['VendorID', 'passenger_count', 'trip_distance', 'total_amount']]"
   ]
  },
  {
   "cell_type": "code",
   "execution_count": 61,
   "id": "6805decc-5015-4aca-b7c9-c2f0330ca46e",
   "metadata": {},
   "outputs": [
    {
     "name": "stdout",
     "output_type": "stream",
     "text": [
      "464 µs ± 12.9 µs per loop (mean ± std. dev. of 7 runs, 1,000 loops each)\n"
     ]
    }
   ],
   "source": [
    "%timeit df_pa[['VendorID', 'passenger_count', 'trip_distance', 'total_amount']]"
   ]
  },
  {
   "cell_type": "code",
   "execution_count": 62,
   "id": "a78e42b9-c8f8-42ba-a6ef-fe887cc76706",
   "metadata": {},
   "outputs": [],
   "source": [
    "# PyArrow is faster at retrieving columns\n",
    "# NumPy is (still) faster at retrieving rows"
   ]
  },
  {
   "cell_type": "code",
   "execution_count": 63,
   "id": "5953082c-5271-48de-ab41-b302a3478e7c",
   "metadata": {},
   "outputs": [],
   "source": [
    "# let's try some queries and see how they look"
   ]
  },
  {
   "cell_type": "code",
   "execution_count": 64,
   "id": "1d4d8e5b-88bd-425e-8324-e6f6e8efe315",
   "metadata": {},
   "outputs": [
    {
     "name": "stdout",
     "output_type": "stream",
     "text": [
      "160 ms ± 6.28 ms per loop (mean ± std. dev. of 7 runs, 10 loops each)\n"
     ]
    }
   ],
   "source": [
    "%%timeit \n",
    "\n",
    "(\n",
    "    df_np\n",
    "    .loc[lambda df_: df_['passenger_count'] > 3]\n",
    "    .loc[lambda df_: df_['trip_distance'] < 10]\n",
    "    [['passenger_count', 'trip_distance']]    \n",
    ")"
   ]
  },
  {
   "cell_type": "code",
   "execution_count": 65,
   "id": "37341898-37e7-49d3-9a3b-9652424c60ec",
   "metadata": {},
   "outputs": [
    {
     "name": "stdout",
     "output_type": "stream",
     "text": [
      "1.35 s ± 130 ms per loop (mean ± std. dev. of 7 runs, 1 loop each)\n"
     ]
    }
   ],
   "source": [
    "%%timeit \n",
    "\n",
    "(\n",
    "    df_pa\n",
    "    .loc[lambda df_: df_['passenger_count'] > 3]\n",
    "    .loc[lambda df_: df_['trip_distance'] < 10]\n",
    "    [['passenger_count', 'trip_distance']]    \n",
    ")"
   ]
  },
  {
   "cell_type": "code",
   "execution_count": 66,
   "id": "ade09367-b4a7-4780-965b-b59c0525bbd2",
   "metadata": {},
   "outputs": [],
   "source": [
    "# What about some basic string operations?"
   ]
  },
  {
   "cell_type": "code",
   "execution_count": 67,
   "id": "a1c74b2d-180a-48d0-9944-6f5a676e5f0e",
   "metadata": {},
   "outputs": [
    {
     "name": "stdout",
     "output_type": "stream",
     "text": [
      "2.24 s ± 240 ms per loop (mean ± std. dev. of 7 runs, 1 loop each)\n"
     ]
    }
   ],
   "source": [
    "%timeit df_np['store_and_fwd_flag'].str.get(0)"
   ]
  },
  {
   "cell_type": "code",
   "execution_count": 68,
   "id": "661a9028-d411-4164-93cb-d891aa1247cb",
   "metadata": {},
   "outputs": [
    {
     "name": "stdout",
     "output_type": "stream",
     "text": [
      "176 ms ± 6.08 ms per loop (mean ± std. dev. of 7 runs, 10 loops each)\n"
     ]
    }
   ],
   "source": [
    "%timeit df_pa['store_and_fwd_flag'].str.get(0)"
   ]
  },
  {
   "cell_type": "code",
   "execution_count": 69,
   "id": "d0843adf-2089-43ff-86a0-6140251ce190",
   "metadata": {},
   "outputs": [],
   "source": [
    "# grouping -- which is faster?"
   ]
  },
  {
   "cell_type": "code",
   "execution_count": 70,
   "id": "06b132d2-fa0d-49a9-9a87-8cdecf45882d",
   "metadata": {},
   "outputs": [
    {
     "name": "stdout",
     "output_type": "stream",
     "text": [
      "145 ms ± 7.52 ms per loop (mean ± std. dev. of 7 runs, 10 loops each)\n"
     ]
    }
   ],
   "source": [
    "%timeit df_np.groupby(['passenger_count'])['trip_distance'].mean()"
   ]
  },
  {
   "cell_type": "code",
   "execution_count": 71,
   "id": "a662584c-2799-4658-aed5-10590253b898",
   "metadata": {},
   "outputs": [
    {
     "name": "stdout",
     "output_type": "stream",
     "text": [
      "239 ms ± 3.07 ms per loop (mean ± std. dev. of 7 runs, 1 loop each)\n"
     ]
    }
   ],
   "source": [
    "%timeit df_pa.groupby(['passenger_count'])['trip_distance'].mean()"
   ]
  },
  {
   "cell_type": "code",
   "execution_count": null,
   "id": "f8ede401-fa32-48c4-be2d-fafd94b395df",
   "metadata": {},
   "outputs": [],
   "source": []
  }
 ],
 "metadata": {
  "kernelspec": {
   "display_name": "Python 3 (ipykernel)",
   "language": "python",
   "name": "python3"
  },
  "language_info": {
   "codemirror_mode": {
    "name": "ipython",
    "version": 3
   },
   "file_extension": ".py",
   "mimetype": "text/x-python",
   "name": "python",
   "nbconvert_exporter": "python",
   "pygments_lexer": "ipython3",
   "version": "3.12.1"
  }
 },
 "nbformat": 4,
 "nbformat_minor": 5
}
