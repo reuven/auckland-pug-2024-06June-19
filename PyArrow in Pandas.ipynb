{
 "cells": [
  {
   "cell_type": "markdown",
   "id": "038f816a-0c1d-4dcd-a1c3-11b44c85e3cc",
   "metadata": {},
   "source": [
    "# PyArrow in Pandas\n",
    "\n",
    "1. What is Arrow? What is PyArrow?\n",
    "2. How can I use Arrow/PyArrow today?\n",
    "3. Using PyArrow as a backend instead of NumPy"
   ]
  },
  {
   "cell_type": "code",
   "execution_count": null,
   "id": "54d9ed41-73a9-4cf7-abe0-9afaac3da849",
   "metadata": {},
   "outputs": [],
   "source": []
  }
 ],
 "metadata": {
  "kernelspec": {
   "display_name": "Python 3 (ipykernel)",
   "language": "python",
   "name": "python3"
  },
  "language_info": {
   "codemirror_mode": {
    "name": "ipython",
    "version": 3
   },
   "file_extension": ".py",
   "mimetype": "text/x-python",
   "name": "python",
   "nbconvert_exporter": "python",
   "pygments_lexer": "ipython3",
   "version": "3.12.1"
  }
 },
 "nbformat": 4,
 "nbformat_minor": 5
}
