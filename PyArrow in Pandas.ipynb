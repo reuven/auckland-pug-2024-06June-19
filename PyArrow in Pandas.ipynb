{
 "cells": [
  {
   "cell_type": "markdown",
   "id": "038f816a-0c1d-4dcd-a1c3-11b44c85e3cc",
   "metadata": {},
   "source": [
    "# PyArrow in Pandas\n",
    "\n",
    "1. What is Arrow? What is PyArrow?\n",
    "2. How can I use Arrow/PyArrow today?\n",
    "3. Using PyArrow as a backend instead of NumPy"
   ]
  },
  {
   "cell_type": "markdown",
   "id": "ae598a9c-ea24-49ac-9612-081004cf733c",
   "metadata": {},
   "source": [
    "# What is Arrow?\n",
    "\n",
    "Arrow is an open-source project from Apache. The idea is to have an in-memory set of data structures that are cross-platform and cross-language, for data analysis work. If you are implementing a language that wants to do data analysis, or if you're implementing a system/database/tool for data analysis, then don't re-invent the wheel -- just use Apache Arrow.\n",
    "\n",
    "If you're using Apache Arrow, then you can probably share data with other systems using Apache Arrow.\n",
    "\n",
    "# Well.. what's wrong with NumPy?\n",
    "\n",
    "I've long described Pandas as an automatic transmission, whereas NumPy is the manual transmission.  Pandas has long used NumPy for storage. And that's mostly great:\n",
    "\n",
    "- Storage is in C, so it's small and fast\n",
    "- Much less memory usage than Python objects\n",
    "- Vectorized operations\n",
    "- We know it's rock solid\n",
    "\n",
    "But...\n",
    "\n",
    "- It was never designed for data storage/retrieval\n",
    "- It was never designed for tabular data, like we use in Pandas\n",
    "- It was never really meant for serious string operations\n",
    "\n",
    "At some point, Arrow will replace NumPy as the backend for Pandas. It's currently experimental, but the documentation says that Arrow (PyArrow, the Python bindings for Arrow) will be mandatory in order to install Pandas 3.0 whenever it comes out."
   ]
  },
  {
   "cell_type": "code",
   "execution_count": 1,
   "id": "1781f43d-4189-489c-8b5d-1fc48c765d40",
   "metadata": {},
   "outputs": [
    {
     "data": {
      "text/plain": [
       "28"
      ]
     },
     "execution_count": 1,
     "metadata": {},
     "output_type": "execute_result"
    }
   ],
   "source": [
    "# if we're using int64 in Pandas/NumPy, then an integer takes up 64 bits or 8 bytes\n",
    "# how much space does a Python integer take?\n",
    "\n",
    "x = 1000\n",
    "import sys\n",
    "\n",
    "sys.getsizeof(x)  # how many bytes will this be?"
   ]
  },
  {
   "cell_type": "code",
   "execution_count": 2,
   "id": "d04cd8c1-097c-41ec-87bf-27283ff41f48",
   "metadata": {},
   "outputs": [],
   "source": [
    "x = x ** 100"
   ]
  },
  {
   "cell_type": "code",
   "execution_count": 3,
   "id": "4d703706-ee03-4f15-a011-b13d9f94cd1c",
   "metadata": {},
   "outputs": [
    {
     "data": {
      "text/plain": [
       "160"
      ]
     },
     "execution_count": 3,
     "metadata": {},
     "output_type": "execute_result"
    }
   ],
   "source": [
    "sys.getsizeof(x)"
   ]
  },
  {
   "cell_type": "code",
   "execution_count": 4,
   "id": "7f4e29d5-7b63-48d4-be45-60bc8a86a1ec",
   "metadata": {},
   "outputs": [],
   "source": [
    "import numpy as np\n",
    "import pandas as pd\n",
    "from pandas import Series, DataFrame"
   ]
  },
  {
   "cell_type": "code",
   "execution_count": 5,
   "id": "17005cb3-3676-4727-a384-3ebea256a313",
   "metadata": {},
   "outputs": [
    {
     "data": {
      "text/html": [
       "<div>\n",
       "<style scoped>\n",
       "    .dataframe tbody tr th:only-of-type {\n",
       "        vertical-align: middle;\n",
       "    }\n",
       "\n",
       "    .dataframe tbody tr th {\n",
       "        vertical-align: top;\n",
       "    }\n",
       "\n",
       "    .dataframe thead th {\n",
       "        text-align: right;\n",
       "    }\n",
       "</style>\n",
       "<table border=\"1\" class=\"dataframe\">\n",
       "  <thead>\n",
       "    <tr style=\"text-align: right;\">\n",
       "      <th></th>\n",
       "      <th>v</th>\n",
       "      <th>w</th>\n",
       "      <th>x</th>\n",
       "      <th>y</th>\n",
       "      <th>z</th>\n",
       "    </tr>\n",
       "  </thead>\n",
       "  <tbody>\n",
       "    <tr>\n",
       "      <th>a</th>\n",
       "      <td>684</td>\n",
       "      <td>559</td>\n",
       "      <td>629</td>\n",
       "      <td>192</td>\n",
       "      <td>835</td>\n",
       "    </tr>\n",
       "    <tr>\n",
       "      <th>b</th>\n",
       "      <td>763</td>\n",
       "      <td>707</td>\n",
       "      <td>359</td>\n",
       "      <td>9</td>\n",
       "      <td>723</td>\n",
       "    </tr>\n",
       "    <tr>\n",
       "      <th>c</th>\n",
       "      <td>277</td>\n",
       "      <td>754</td>\n",
       "      <td>804</td>\n",
       "      <td>599</td>\n",
       "      <td>70</td>\n",
       "    </tr>\n",
       "    <tr>\n",
       "      <th>d</th>\n",
       "      <td>472</td>\n",
       "      <td>600</td>\n",
       "      <td>396</td>\n",
       "      <td>314</td>\n",
       "      <td>705</td>\n",
       "    </tr>\n",
       "  </tbody>\n",
       "</table>\n",
       "</div>"
      ],
      "text/plain": [
       "     v    w    x    y    z\n",
       "a  684  559  629  192  835\n",
       "b  763  707  359    9  723\n",
       "c  277  754  804  599   70\n",
       "d  472  600  396  314  705"
      ]
     },
     "execution_count": 5,
     "metadata": {},
     "output_type": "execute_result"
    }
   ],
   "source": [
    "np.random.seed(0)\n",
    "df = DataFrame(np.random.randint(0, 1000, [4,5]),\n",
    "               index=list('abcd'),\n",
    "               columns=list('vwxyz'))\n",
    "df\n",
    "               "
   ]
  },
  {
   "cell_type": "code",
   "execution_count": 6,
   "id": "ad2f5da5-7e72-4e06-bd71-e4758ccf7d7e",
   "metadata": {},
   "outputs": [
    {
     "name": "stdout",
     "output_type": "stream",
     "text": [
      "<class 'pandas.core.frame.DataFrame'>\n",
      "Index: 4 entries, a to d\n",
      "Data columns (total 5 columns):\n",
      " #   Column  Non-Null Count  Dtype\n",
      "---  ------  --------------  -----\n",
      " 0   v       4 non-null      int64\n",
      " 1   w       4 non-null      int64\n",
      " 2   x       4 non-null      int64\n",
      " 3   y       4 non-null      int64\n",
      " 4   z       4 non-null      int64\n",
      "dtypes: int64(5)\n",
      "memory usage: 192.0+ bytes\n"
     ]
    }
   ],
   "source": [
    "# how much memory does this data frame use?\n",
    "# I use df.info(), which both shows me info about my columns + rows, and gives me a memory summary\n",
    "\n",
    "df.info()"
   ]
  },
  {
   "cell_type": "code",
   "execution_count": 7,
   "id": "91a9f65f-16d4-4781-b686-9836c89971bf",
   "metadata": {},
   "outputs": [
    {
     "data": {
      "text/plain": [
       "160"
      ]
     },
     "execution_count": 7,
     "metadata": {},
     "output_type": "execute_result"
    }
   ],
   "source": [
    "4 * 5 * 8"
   ]
  },
  {
   "cell_type": "code",
   "execution_count": 8,
   "id": "452846c9-6c95-4f7b-a33b-b235abb236bb",
   "metadata": {},
   "outputs": [
    {
     "data": {
      "text/plain": [
       "Index(['a', 'b', 'c', 'd'], dtype='object')"
      ]
     },
     "execution_count": 8,
     "metadata": {},
     "output_type": "execute_result"
    }
   ],
   "source": [
    "# because the rows and columns have strings as names, Pandas does *not* store them in NumPy!\n",
    "# rather, it stores them as Python strings, and then refers to those strings from Pandas to Python memory space\n",
    "\n",
    "df.index"
   ]
  },
  {
   "cell_type": "code",
   "execution_count": 9,
   "id": "7f21b85e-82de-46f6-a124-bb60001efb8a",
   "metadata": {},
   "outputs": [
    {
     "data": {
      "text/plain": [
       "Index(['v', 'w', 'x', 'y', 'z'], dtype='object')"
      ]
     },
     "execution_count": 9,
     "metadata": {},
     "output_type": "execute_result"
    }
   ],
   "source": [
    "df.columns"
   ]
  },
  {
   "cell_type": "code",
   "execution_count": 10,
   "id": "7f48f213-25e7-4c0e-947f-ab87726fbb09",
   "metadata": {},
   "outputs": [
    {
     "name": "stdout",
     "output_type": "stream",
     "text": [
      "<class 'pandas.core.frame.DataFrame'>\n",
      "Index: 4 entries, a to d\n",
      "Data columns (total 5 columns):\n",
      " #   Column  Non-Null Count  Dtype\n",
      "---  ------  --------------  -----\n",
      " 0   v       4 non-null      int64\n",
      " 1   w       4 non-null      int64\n",
      " 2   x       4 non-null      int64\n",
      " 3   y       4 non-null      int64\n",
      " 4   z       4 non-null      int64\n",
      "dtypes: int64(5)\n",
      "memory usage: 360.0 bytes\n"
     ]
    }
   ],
   "source": [
    "# by passing memory_usage='deep', we say: Go and find the memory usage for each string\n",
    "df.info(memory_usage='deep')"
   ]
  },
  {
   "cell_type": "code",
   "execution_count": 11,
   "id": "be31f5b1-e764-4bc3-8b49-eed06014bdee",
   "metadata": {},
   "outputs": [],
   "source": [
    "# let's add a column\n",
    "\n",
    "df['s'] = ['hello', 'out', 'there', 'everyone']"
   ]
  },
  {
   "cell_type": "code",
   "execution_count": 12,
   "id": "d6589a1e-f5ee-4a6a-9312-b8edbbafc07e",
   "metadata": {},
   "outputs": [
    {
     "data": {
      "text/html": [
       "<div>\n",
       "<style scoped>\n",
       "    .dataframe tbody tr th:only-of-type {\n",
       "        vertical-align: middle;\n",
       "    }\n",
       "\n",
       "    .dataframe tbody tr th {\n",
       "        vertical-align: top;\n",
       "    }\n",
       "\n",
       "    .dataframe thead th {\n",
       "        text-align: right;\n",
       "    }\n",
       "</style>\n",
       "<table border=\"1\" class=\"dataframe\">\n",
       "  <thead>\n",
       "    <tr style=\"text-align: right;\">\n",
       "      <th></th>\n",
       "      <th>v</th>\n",
       "      <th>w</th>\n",
       "      <th>x</th>\n",
       "      <th>y</th>\n",
       "      <th>z</th>\n",
       "      <th>s</th>\n",
       "    </tr>\n",
       "  </thead>\n",
       "  <tbody>\n",
       "    <tr>\n",
       "      <th>a</th>\n",
       "      <td>684</td>\n",
       "      <td>559</td>\n",
       "      <td>629</td>\n",
       "      <td>192</td>\n",
       "      <td>835</td>\n",
       "      <td>hello</td>\n",
       "    </tr>\n",
       "    <tr>\n",
       "      <th>b</th>\n",
       "      <td>763</td>\n",
       "      <td>707</td>\n",
       "      <td>359</td>\n",
       "      <td>9</td>\n",
       "      <td>723</td>\n",
       "      <td>out</td>\n",
       "    </tr>\n",
       "    <tr>\n",
       "      <th>c</th>\n",
       "      <td>277</td>\n",
       "      <td>754</td>\n",
       "      <td>804</td>\n",
       "      <td>599</td>\n",
       "      <td>70</td>\n",
       "      <td>there</td>\n",
       "    </tr>\n",
       "    <tr>\n",
       "      <th>d</th>\n",
       "      <td>472</td>\n",
       "      <td>600</td>\n",
       "      <td>396</td>\n",
       "      <td>314</td>\n",
       "      <td>705</td>\n",
       "      <td>everyone</td>\n",
       "    </tr>\n",
       "  </tbody>\n",
       "</table>\n",
       "</div>"
      ],
      "text/plain": [
       "     v    w    x    y    z         s\n",
       "a  684  559  629  192  835     hello\n",
       "b  763  707  359    9  723       out\n",
       "c  277  754  804  599   70     there\n",
       "d  472  600  396  314  705  everyone"
      ]
     },
     "execution_count": 12,
     "metadata": {},
     "output_type": "execute_result"
    }
   ],
   "source": [
    "df"
   ]
  },
  {
   "cell_type": "code",
   "execution_count": 13,
   "id": "830d0742-7231-4f1e-993a-6fc0adecedf6",
   "metadata": {},
   "outputs": [
    {
     "name": "stdout",
     "output_type": "stream",
     "text": [
      "<class 'pandas.core.frame.DataFrame'>\n",
      "Index: 4 entries, a to d\n",
      "Data columns (total 6 columns):\n",
      " #   Column  Non-Null Count  Dtype \n",
      "---  ------  --------------  ----- \n",
      " 0   v       4 non-null      int64 \n",
      " 1   w       4 non-null      int64 \n",
      " 2   x       4 non-null      int64 \n",
      " 3   y       4 non-null      int64 \n",
      " 4   z       4 non-null      int64 \n",
      " 5   s       4 non-null      object\n",
      "dtypes: int64(5), object(1)\n",
      "memory usage: 577.0 bytes\n"
     ]
    }
   ],
   "source": [
    "df.info(memory_usage='deep')"
   ]
  },
  {
   "cell_type": "code",
   "execution_count": 15,
   "id": "c4b25f40-b214-4c47-ac39-fc8b2695ec5e",
   "metadata": {},
   "outputs": [
    {
     "name": "stdout",
     "output_type": "stream",
     "text": [
      "<class 'pandas.core.frame.DataFrame'>\n",
      "Index: 4 entries, a to d\n",
      "Data columns (total 6 columns):\n",
      " #   Column  Non-Null Count  Dtype \n",
      "---  ------  --------------  ----- \n",
      " 0   v       4 non-null      int64 \n",
      " 1   w       4 non-null      int64 \n",
      " 2   x       4 non-null      int64 \n",
      " 3   y       4 non-null      int64 \n",
      " 4   z       4 non-null      int64 \n",
      " 5   s       4 non-null      object\n",
      "dtypes: int64(5), object(1)\n",
      "memory usage: 224.0+ bytes\n"
     ]
    }
   ],
   "source": [
    "df.info()  # no memory_usage = deep, and it's still off\n"
   ]
  },
  {
   "cell_type": "code",
   "execution_count": 16,
   "id": "19ccc81b-2189-4430-ac61-6d6a3ca4477c",
   "metadata": {},
   "outputs": [],
   "source": [
    "# let's assign a new string to one value\n",
    "\n",
    "df.loc['a', 's'] = 'abcdefghij' * 10_000_000"
   ]
  },
  {
   "cell_type": "code",
   "execution_count": 17,
   "id": "782cb1dc-edab-4c79-9d6f-ad350a547265",
   "metadata": {},
   "outputs": [
    {
     "name": "stdout",
     "output_type": "stream",
     "text": [
      "<class 'pandas.core.frame.DataFrame'>\n",
      "Index: 4 entries, a to d\n",
      "Data columns (total 6 columns):\n",
      " #   Column  Non-Null Count  Dtype \n",
      "---  ------  --------------  ----- \n",
      " 0   v       4 non-null      int64 \n",
      " 1   w       4 non-null      int64 \n",
      " 2   x       4 non-null      int64 \n",
      " 3   y       4 non-null      int64 \n",
      " 4   z       4 non-null      int64 \n",
      " 5   s       4 non-null      object\n",
      "dtypes: int64(5), object(1)\n",
      "memory usage: 396.0+ bytes\n"
     ]
    }
   ],
   "source": [
    "df.info()  # no deep -- how much memory"
   ]
  },
  {
   "cell_type": "code",
   "execution_count": 18,
   "id": "4f1a0869-91f7-4838-8709-232f2a814010",
   "metadata": {},
   "outputs": [
    {
     "name": "stdout",
     "output_type": "stream",
     "text": [
      "<class 'pandas.core.frame.DataFrame'>\n",
      "Index: 4 entries, a to d\n",
      "Data columns (total 6 columns):\n",
      " #   Column  Non-Null Count  Dtype \n",
      "---  ------  --------------  ----- \n",
      " 0   v       4 non-null      int64 \n",
      " 1   w       4 non-null      int64 \n",
      " 2   x       4 non-null      int64 \n",
      " 3   y       4 non-null      int64 \n",
      " 4   z       4 non-null      int64 \n",
      " 5   s       4 non-null      object\n",
      "dtypes: int64(5), object(1)\n",
      "memory usage: 95.4 MB\n"
     ]
    }
   ],
   "source": [
    "df.info(memory_usage='deep')"
   ]
  },
  {
   "cell_type": "markdown",
   "id": "ce0f0530-a573-4ee8-a0ff-60231350f53a",
   "metadata": {},
   "source": [
    "# Using PyArrow today\n",
    "\n",
    "We often read CSV files from disk into Pandas. A big CSV file can take a long time to load. That's because Pandas uses\n",
    "a relatively slow engine for reading data.\n",
    "\n",
    "We can replace it, with almost zero effort, with PyArrow's CSV-loading facility. "
   ]
  },
  {
   "cell_type": "code",
   "execution_count": 19,
   "id": "eb44e951-72fb-4607-8340-0e2471ddf833",
   "metadata": {},
   "outputs": [],
   "source": [
    "filename = '/Users/reuven/Courses/Current/Data/nyc_taxi_2019-01.csv'"
   ]
  },
  {
   "cell_type": "code",
   "execution_count": 20,
   "id": "2b9b4043-7c17-494e-96b5-142095fde434",
   "metadata": {},
   "outputs": [
    {
     "name": "stdout",
     "output_type": "stream",
     "text": [
      "-rw-r--r-- 1 reuven staff 656M Jun  4  2021 /Users/reuven/Courses/Current/Data/nyc_taxi_2019-01.csv\n"
     ]
    }
   ],
   "source": [
    "!ls -lh $filename"
   ]
  },
  {
   "cell_type": "code",
   "execution_count": 22,
   "id": "abe846cb-5d5f-47fb-8016-b8badf1e4981",
   "metadata": {},
   "outputs": [
    {
     "name": "stdout",
     "output_type": "stream",
     "text": [
      "Total is 11.839046955108643\n"
     ]
    }
   ],
   "source": [
    "# how long does it take to load this data into Pandas?\n",
    "\n",
    "import time\n",
    "\n",
    "start_time = time.time()\n",
    "df = pd.read_csv(filename)\n",
    "end_time = time.time()\n",
    "\n",
    "print(f'Total is {end_time - start_time}')"
   ]
  },
  {
   "cell_type": "code",
   "execution_count": 23,
   "id": "304bc984-1e48-4f32-a40a-91eb733f370a",
   "metadata": {},
   "outputs": [
    {
     "name": "stdout",
     "output_type": "stream",
     "text": [
      "Total is 1.0558300018310547\n"
     ]
    }
   ],
   "source": [
    "# Let's use PyArrow instead\n",
    "\n",
    "import time\n",
    "\n",
    "start_time = time.time()\n",
    "df = pd.read_csv(filename, engine='pyarrow')\n",
    "end_time = time.time()\n",
    "\n",
    "print(f'Total is {end_time - start_time}')"
   ]
  },
  {
   "cell_type": "code",
   "execution_count": 24,
   "id": "1fd5e75d-ed9e-4d0a-98ac-c6ca34a4685e",
   "metadata": {},
   "outputs": [
    {
     "data": {
      "text/plain": [
       "VendorID                         int64\n",
       "tpep_pickup_datetime     datetime64[s]\n",
       "tpep_dropoff_datetime    datetime64[s]\n",
       "passenger_count                  int64\n",
       "trip_distance                  float64\n",
       "RatecodeID                       int64\n",
       "store_and_fwd_flag              object\n",
       "PULocationID                     int64\n",
       "DOLocationID                     int64\n",
       "payment_type                     int64\n",
       "fare_amount                    float64\n",
       "extra                          float64\n",
       "mta_tax                        float64\n",
       "tip_amount                     float64\n",
       "tolls_amount                   float64\n",
       "improvement_surcharge          float64\n",
       "total_amount                   float64\n",
       "congestion_surcharge           float64\n",
       "dtype: object"
      ]
     },
     "execution_count": 24,
     "metadata": {},
     "output_type": "execute_result"
    }
   ],
   "source": [
    "df.dtypes"
   ]
  },
  {
   "cell_type": "code",
   "execution_count": 26,
   "id": "dfc9a539-26e8-42e5-b9e6-0073b9131d38",
   "metadata": {},
   "outputs": [
    {
     "data": {
      "text/plain": [
       "numpy.ndarray"
      ]
     },
     "execution_count": 26,
     "metadata": {},
     "output_type": "execute_result"
    }
   ],
   "source": [
    "type(df.values)"
   ]
  },
  {
   "cell_type": "markdown",
   "id": "4e92d536-9e95-476f-b9e8-4867fb6cdc11",
   "metadata": {},
   "source": [
    "# CSV is slow (because it's text)\n",
    "\n",
    "Apache Arrow has two of its own (binary) formats that we can use for storing and retrieving data. This will always be much faster than CSV.\n",
    "\n",
    "Arrow supports two formats:\n",
    "\n",
    "- Feather -- faster reads/writes, but no compression (so you have larger files)\n",
    "- Parquet -- slower reads/writes, but heavy compression (so you have smaller files)"
   ]
  },
  {
   "cell_type": "code",
   "execution_count": null,
   "id": "d445d618-cb63-40a9-a7d7-0564b017e3cb",
   "metadata": {},
   "outputs": [],
   "source": []
  }
 ],
 "metadata": {
  "kernelspec": {
   "display_name": "Python 3 (ipykernel)",
   "language": "python",
   "name": "python3"
  },
  "language_info": {
   "codemirror_mode": {
    "name": "ipython",
    "version": 3
   },
   "file_extension": ".py",
   "mimetype": "text/x-python",
   "name": "python",
   "nbconvert_exporter": "python",
   "pygments_lexer": "ipython3",
   "version": "3.12.1"
  }
 },
 "nbformat": 4,
 "nbformat_minor": 5
}
