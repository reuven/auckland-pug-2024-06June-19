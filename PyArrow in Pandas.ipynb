{
 "cells": [
  {
   "cell_type": "markdown",
   "id": "038f816a-0c1d-4dcd-a1c3-11b44c85e3cc",
   "metadata": {},
   "source": [
    "# PyArrow in Pandas\n",
    "\n",
    "1. What is Arrow? What is PyArrow?\n",
    "2. How can I use Arrow/PyArrow today?\n",
    "3. Using PyArrow as a backend instead of NumPy"
   ]
  },
  {
   "cell_type": "markdown",
   "id": "ae598a9c-ea24-49ac-9612-081004cf733c",
   "metadata": {},
   "source": [
    "# What is Arrow?\n",
    "\n",
    "Arrow is an open-source project from Apache. The idea is to have an in-memory set of data structures that are cross-platform and cross-language, for data analysis work. If you are implementing a language that wants to do data analysis, or if you're implementing a system/database/tool for data analysis, then don't re-invent the wheel -- just use Apache Arrow.\n",
    "\n",
    "If you're using Apache Arrow, then you can probably share data with other systems using Apache Arrow.\n",
    "\n",
    "# Well.. what's wrong with NumPy?\n",
    "\n",
    "I've long described Pandas as an automatic transmission, whereas NumPy is the manual transmission.  Pandas has long used NumPy for storage. And that's mostly great:\n",
    "\n",
    "- Storage is in C, so it's small and fast\n",
    "- Much less memory usage than Python objects\n",
    "- Vectorized operations\n",
    "- We know it's rock solid\n",
    "\n",
    "But...\n",
    "\n",
    "- It was never designed for data storage/retrieval\n",
    "- It was never designed for tabular data, like we use in Pandas\n",
    "- It was never really meant for serious string operations\n",
    "\n",
    "At some point, Arrow will replace NumPy as the backend for Pandas. It's currently experimental, but the documentation says that Arrow (PyArrow, the Python bindings for Arrow) will be mandatory in order to install Pandas 3.0 whenever it comes out."
   ]
  },
  {
   "cell_type": "code",
   "execution_count": 1,
   "id": "1781f43d-4189-489c-8b5d-1fc48c765d40",
   "metadata": {},
   "outputs": [
    {
     "data": {
      "text/plain": [
       "28"
      ]
     },
     "execution_count": 1,
     "metadata": {},
     "output_type": "execute_result"
    }
   ],
   "source": [
    "# if we're using int64 in Pandas/NumPy, then an integer takes up 64 bits or 8 bytes\n",
    "# how much space does a Python integer take?\n",
    "\n",
    "x = 1000\n",
    "import sys\n",
    "\n",
    "sys.getsizeof(x)  # how many bytes will this be?"
   ]
  },
  {
   "cell_type": "code",
   "execution_count": 2,
   "id": "d04cd8c1-097c-41ec-87bf-27283ff41f48",
   "metadata": {},
   "outputs": [],
   "source": [
    "x = x ** 100"
   ]
  },
  {
   "cell_type": "code",
   "execution_count": 3,
   "id": "4d703706-ee03-4f15-a011-b13d9f94cd1c",
   "metadata": {},
   "outputs": [
    {
     "data": {
      "text/plain": [
       "160"
      ]
     },
     "execution_count": 3,
     "metadata": {},
     "output_type": "execute_result"
    }
   ],
   "source": [
    "sys.getsizeof(x)"
   ]
  },
  {
   "cell_type": "code",
   "execution_count": null,
   "id": "7f4e29d5-7b63-48d4-be45-60bc8a86a1ec",
   "metadata": {},
   "outputs": [],
   "source": []
  }
 ],
 "metadata": {
  "kernelspec": {
   "display_name": "Python 3 (ipykernel)",
   "language": "python",
   "name": "python3"
  },
  "language_info": {
   "codemirror_mode": {
    "name": "ipython",
    "version": 3
   },
   "file_extension": ".py",
   "mimetype": "text/x-python",
   "name": "python",
   "nbconvert_exporter": "python",
   "pygments_lexer": "ipython3",
   "version": "3.12.1"
  }
 },
 "nbformat": 4,
 "nbformat_minor": 5
}
