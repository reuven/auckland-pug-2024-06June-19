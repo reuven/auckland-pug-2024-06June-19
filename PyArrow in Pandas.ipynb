{
 "cells": [
  {
   "cell_type": "markdown",
   "id": "038f816a-0c1d-4dcd-a1c3-11b44c85e3cc",
   "metadata": {},
   "source": [
    "# PyArrow in Pandas\n",
    "\n",
    "1. What is Arrow? What is PyArrow?\n",
    "2. How can I use Arrow/PyArrow today?\n",
    "3. Using PyArrow as a backend instead of NumPy"
   ]
  },
  {
   "cell_type": "markdown",
   "id": "ae598a9c-ea24-49ac-9612-081004cf733c",
   "metadata": {},
   "source": [
    "# What is Arrow?\n",
    "\n",
    "Arrow is an open-source project from Apache. The idea is to have an in-memory set of data structures that are cross-platform and cross-language, for data analysis work. If you are implementing a language that wants to do data analysis, or if you're implementing a system/database/tool for data analysis, then don't re-invent the wheel -- just use Apache Arrow.\n",
    "\n",
    "If you're using Apache Arrow, then you can probably share data with other systems using Apache Arrow.\n",
    "\n",
    "# Well.. what's wrong with NumPy?\n",
    "\n"
   ]
  }
 ],
 "metadata": {
  "kernelspec": {
   "display_name": "Python 3 (ipykernel)",
   "language": "python",
   "name": "python3"
  },
  "language_info": {
   "codemirror_mode": {
    "name": "ipython",
    "version": 3
   },
   "file_extension": ".py",
   "mimetype": "text/x-python",
   "name": "python",
   "nbconvert_exporter": "python",
   "pygments_lexer": "ipython3",
   "version": "3.12.1"
  }
 },
 "nbformat": 4,
 "nbformat_minor": 5
}
